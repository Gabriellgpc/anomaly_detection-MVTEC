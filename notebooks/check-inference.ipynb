{
 "cells": [
  {
   "cell_type": "markdown",
   "metadata": {},
   "source": [
    "# Model Class definition"
   ]
  },
  {
   "cell_type": "code",
   "execution_count": null,
   "metadata": {},
   "outputs": [],
   "source": [
    "from anomalib.models import Patchcore\n",
    "from anomalib.models.image.patchcore.torch_model import PatchcoreModel\n",
    "\n",
    "from pathlib import Path\n",
    "import torch"
   ]
  },
  {
   "cell_type": "code",
   "execution_count": null,
   "metadata": {},
   "outputs": [],
   "source": [
    "backbone = \"mobilenetv3_large_100\"\n",
    "layers   = ['blocks.2.2', 'blocks.4.1', 'blocks.6.0']\n",
    "model = Patchcore(backbone, layers, pre_trained=True)"
   ]
  },
  {
   "cell_type": "code",
   "execution_count": null,
   "metadata": {},
   "outputs": [],
   "source": [
    "x = torch.rand([1, 3, 256, 256])\n",
    "out = model(x)\n",
    "out"
   ]
  },
  {
   "cell_type": "code",
   "execution_count": null,
   "metadata": {},
   "outputs": [],
   "source": [
    "out.shape"
   ]
  },
  {
   "cell_type": "code",
   "execution_count": null,
   "metadata": {},
   "outputs": [],
   "source": [
    "loaded_state_dict = torch.load(\"/home/lcondados/workspace/competition-INTEL_VAND2/anomaly_detection-MVTEC/experiments/Patchcore-mobilenetv3_large_100-22d0/bottle.pth\")\n",
    "loaded_state_dict"
   ]
  },
  {
   "cell_type": "code",
   "execution_count": null,
   "metadata": {},
   "outputs": [],
   "source": [
    "import argparse\n",
    "import importlib\n",
    "from pathlib import Path\n",
    "\n",
    "import torch.nn as nn\n",
    "import torch\n",
    "\n",
    "import sys\n",
    "sys.path.append(\"../models\")"
   ]
  },
  {
   "cell_type": "code",
   "execution_count": null,
   "metadata": {},
   "outputs": [],
   "source": [
    "def load_model(module_path: str, class_name: str, weights_path: str, category: str) -> nn.Module:\n",
    "    \"\"\"Load model.\n",
    "\n",
    "    Args:\n",
    "        module_path (str): Path to the module containing the model class.\n",
    "        class_name (str): Name of the model class.\n",
    "        weights_path (str): Path to the model weights.\n",
    "        category (str): Category of the dataset.\n",
    "\n",
    "    Note:\n",
    "        We assume that the weight path contain the weights for all categories.\n",
    "            For example, if the weight path is \"/path/to/weights/\", then the\n",
    "            weights for each category should be stored as\n",
    "            \"/path/to/weights/bottle.pth\", \"/path/to/weights/zipper.pth\", etc.\n",
    "\n",
    "\n",
    "    Returns:\n",
    "        nn.Module: Loaded model.\n",
    "    \"\"\"\n",
    "    # get model class\n",
    "    model_class = getattr(importlib.import_module(module_path), class_name)\n",
    "    # instantiate model\n",
    "    model = model_class()\n",
    "\n",
    "    # load weights\n",
    "    if weights_path:\n",
    "        weight_file = Path(weights_path) / f\"{category}.pth\"\n",
    "        model.load_state_dict(torch.load(weight_file))\n",
    "    return model"
   ]
  },
  {
   "cell_type": "code",
   "execution_count": null,
   "metadata": {},
   "outputs": [],
   "source": [
    "module_path = \"patchcore\"\n",
    "class_name  = \"SimplePatchcore\"\n",
    "weights_path= \"/home/lcondados/workspace/competition-INTEL_VAND2/anomaly_detection-MVTEC/experiments/Patchcore-mobilenetv3_large_100-22d0\"\n",
    "category = \"bottle\"\n",
    "model = load_model(module_path, class_name, weights_path, category)"
   ]
  },
  {
   "cell_type": "code",
   "execution_count": null,
   "metadata": {},
   "outputs": [],
   "source": [
    "from anomalib.data import MVTec\n",
    "dataset_path = \"/home/lcondados/workspace/competition-INTEL_VAND2/anomaly_detection-MVTEC/dataset/MVTec\"\n",
    "datamodule = MVTec(root=dataset_path, eval_batch_size=1, image_size=(256, 256))\n",
    "datamodule.setup()\n",
    "\n",
    "for batch in datamodule.test_dataloader():\n",
    "    print(batch[\"image\"].shape)\n",
    "    output = model(batch[\"image\"])\n",
    "    print(output)\n",
    "    break"
   ]
  },
  {
   "cell_type": "code",
   "execution_count": null,
   "metadata": {},
   "outputs": [],
   "source": [
    "output.shape"
   ]
  },
  {
   "cell_type": "code",
   "execution_count": null,
   "metadata": {},
   "outputs": [],
   "source": [
    "output[\"pred_score\"]"
   ]
  },
  {
   "cell_type": "markdown",
   "metadata": {},
   "source": [
    "# Load module"
   ]
  },
  {
   "cell_type": "code",
   "execution_count": null,
   "metadata": {},
   "outputs": [],
   "source": [
    "import argparse\n",
    "import importlib\n",
    "from pathlib import Path"
   ]
  },
  {
   "cell_type": "code",
   "execution_count": null,
   "metadata": {},
   "outputs": [],
   "source": [
    "module_path = \"patchcore\"\n",
    "class_name = \"SimplePatchcore\""
   ]
  },
  {
   "cell_type": "code",
   "execution_count": null,
   "metadata": {},
   "outputs": [],
   "source": [
    "model_class = getattr(importlib.import_module(module_path), class_name)"
   ]
  },
  {
   "cell_type": "code",
   "execution_count": null,
   "metadata": {},
   "outputs": [],
   "source": [
    "model_class"
   ]
  },
  {
   "cell_type": "markdown",
   "metadata": {},
   "source": [
    "# Pre-trained model load"
   ]
  },
  {
   "cell_type": "code",
   "execution_count": null,
   "metadata": {},
   "outputs": [],
   "source": []
  }
 ],
 "metadata": {
  "kernelspec": {
   "display_name": "anomaly",
   "language": "python",
   "name": "python3"
  },
  "language_info": {
   "codemirror_mode": {
    "name": "ipython",
    "version": 3
   },
   "file_extension": ".py",
   "mimetype": "text/x-python",
   "name": "python",
   "nbconvert_exporter": "python",
   "pygments_lexer": "ipython3",
   "version": "3.11.9"
  }
 },
 "nbformat": 4,
 "nbformat_minor": 2
}
