{
 "cells": [
  {
   "cell_type": "code",
   "execution_count": null,
   "metadata": {},
   "outputs": [],
   "source": [
    "import sys\n",
    "sys.path.append(\"../.\")\n",
    "sys.path.append(\"../models\")\n",
    "\n",
    "import torch\n",
    "import matplotlib.pyplot as plt\n",
    "import numpy as np\n",
    "\n",
    "import models\n",
    "from evaluate import load_model\n",
    "\n",
    "from anomalib.data import MVTec\n",
    "from metrics import F1Max\n",
    "\n",
    "from anomalib.engine import Engine"
   ]
  },
  {
   "cell_type": "code",
   "execution_count": null,
   "metadata": {},
   "outputs": [],
   "source": [
    "device = torch.device(\"cuda\") if torch.cuda.is_available() else torch.device(\"cpu\")"
   ]
  },
  {
   "cell_type": "code",
   "execution_count": null,
   "metadata": {},
   "outputs": [],
   "source": [
    "weights_path = \"/home/lcondados/workspace/competition-INTEL_VAND2/anomaly_detection-MVTEC/experiments/weights-Patchcore-mobilenet\"\n",
    "category = \"capsule\"\n",
    "dataset_path = \"../datasets/MVTec\""
   ]
  },
  {
   "cell_type": "code",
   "execution_count": null,
   "metadata": {},
   "outputs": [],
   "source": [
    "module_path = \"models.simple_patchcore\"\n",
    "class_name  = \"SimplePatchcore\"\n",
    "model = load_model(module_path, class_name, weights_path, category).to(device)"
   ]
  },
  {
   "cell_type": "code",
   "execution_count": null,
   "metadata": {},
   "outputs": [],
   "source": [
    "from torchvision.transforms import v2 as T"
   ]
  },
  {
   "cell_type": "code",
   "execution_count": null,
   "metadata": {},
   "outputs": [],
   "source": [
    "def show_image_gt_pred(image, pred_mask, gt_mask, pred_cls, gt_cls):\n",
    "    plt.subplot(1, 3, 1)\n",
    "    plt.title(\"Image\")\n",
    "    plt.imshow(image)\n",
    "    plt.axis(\"off\")\n",
    "\n",
    "    plt.subplot(1, 3, 2)\n",
    "    plt.title(\"{}\".format(gt_cls))\n",
    "    plt.imshow(gt_mask)\n",
    "    plt.axis(\"off\")\n",
    "\n",
    "    plt.subplot(1, 3, 3)\n",
    "    plt.title(\"{}\".format(pred_cls))\n",
    "    plt.imshow(pred_mask)\n",
    "    plt.axis(\"off\")\n",
    "\n",
    "    plt.show()"
   ]
  },
  {
   "cell_type": "code",
   "execution_count": null,
   "metadata": {},
   "outputs": [],
   "source": [
    "# data[\"mask\"].squeeze().cpu().numpy().min(), data[\"mask\"].squeeze().cpu().numpy().max()"
   ]
  },
  {
   "cell_type": "code",
   "execution_count": null,
   "metadata": {},
   "outputs": [],
   "source": [
    "cls_name = [\"Normal\", \"Anomaly\"]\n",
    "\n",
    "# Create the dataset\n",
    "# T.RandomAffine()\n",
    "\n",
    "eval_transform = None\n",
    "\n",
    "# eval_transform = T.Compose([\n",
    "#     # T.RandomResizedCrop(224),  # Randomly crop and resize the image\n",
    "#     T.RandomPhotometricDistort(),\n",
    "#     T.RandomHorizontalFlip(),  # Randomly flip the image horizontally\n",
    "#     T.RandomApply(T.GaussianBlur(), p=0.5),  # Randomly rotate the image by up to 15 degrees\n",
    "#     T.RandomRotation(degrees=30),  # Randomly rotate the image by up to 15 degrees\n",
    "#     T.Resize(256)\n",
    "# ])\n",
    "\n",
    "datamodule = MVTec(root=dataset_path,\n",
    "                   category=category,\n",
    "                   eval_batch_size=1,\n",
    "                   eval_transform=eval_transform,\n",
    "                   image_size=(256, 256))\n",
    "datamodule.setup()\n",
    "\n",
    "# Create the metrics\n",
    "image_metric = F1Max()\n",
    "pixel_metric = F1Max()\n",
    "\n",
    "fake_scores = torch.ones([len(datamodule.test_dataloader())], dtype=torch.int64)\n",
    "\n",
    "# Loop over the test set and compute the metrics\n",
    "for i, data in enumerate(datamodule.test_dataloader()):\n",
    "    output = model(data[\"image\"].to(device))\n",
    "\n",
    "    pred_score = output[\"pred_score\"].cpu()\n",
    "\n",
    "    # Update the image metric\n",
    "    # image_metric.update(fake_scores[i].cpu(), data[\"label\"])\n",
    "    image_metric.update(output[\"pred_score\"].cpu(), data[\"label\"])\n",
    "    # Update the pixel metric\n",
    "    pixel_metric.update(output[\"anomaly_map\"].squeeze().cpu(), data[\"mask\"].squeeze().cpu())\n",
    "\n",
    "    # pred_score  = pred_score.squeeze()\n",
    "    # # pred_score  = torch.sigmoid(pred_score).numpy()\n",
    "    # pred_mask = output[\"anomaly_map\"].squeeze().cpu()\n",
    "    # pred_mask = torch.sigmoid(pred_mask).numpy()\n",
    "\n",
    "    print(pred_score)\n",
    "    # print(\"[DEBUG] pred_score {:.2f}\".format(pred_score.numpy()))\n",
    "    # print(\"[DEBUG] pred_mask.min {:.2f} | pred_mask.max {:.2f}\".format(pred_mask.min(), pred_mask.max()))\n",
    "\n",
    "    # show_image_gt_pred(np.transpose(data[\"image\"].squeeze().numpy(), [1, 2, 0]),\n",
    "    #                    pred_mask,\n",
    "    #                    data[\"mask\"].squeeze().cpu(),\n",
    "    #                    cls_name[int(pred_score)],\n",
    "    #                    cls_name[int(data[\"label\"].numpy())]\n",
    "    #                    )\n",
    "\n",
    "# Compute the metrics\n",
    "image_score = image_metric.compute()\n",
    "pixel_score = pixel_metric.compute()\n",
    "\n",
    "print(\"Image F1Max = {:.2f}\".format(image_score.numpy()))\n",
    "print(\"Pixel F1Max = {:.2f}\".format(pixel_score.numpy()))\n"
   ]
  }
 ],
 "metadata": {
  "kernelspec": {
   "display_name": "anomaly",
   "language": "python",
   "name": "python3"
  },
  "language_info": {
   "codemirror_mode": {
    "name": "ipython",
    "version": 3
   },
   "file_extension": ".py",
   "mimetype": "text/x-python",
   "name": "python",
   "nbconvert_exporter": "python",
   "pygments_lexer": "ipython3",
   "version": "3.11.9"
  }
 },
 "nbformat": 4,
 "nbformat_minor": 2
}
