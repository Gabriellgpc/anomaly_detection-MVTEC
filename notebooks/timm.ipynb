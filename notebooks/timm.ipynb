{
 "cells": [
  {
   "cell_type": "code",
   "execution_count": null,
   "metadata": {},
   "outputs": [],
   "source": [
    "import timm\n",
    "# list all pretrained models in timm\n",
    "for model_name in timm.list_models(pretrained=True, filter=\"*vit*\"):\n",
    "    print(model_name)"
   ]
  },
  {
   "cell_type": "code",
   "execution_count": null,
   "metadata": {},
   "outputs": [],
   "source": [
    "import timm\n",
    "model = timm.create_model(\"resnet18\", features_only=True)\n",
    "# Print module names\n",
    "print(model.feature_info.module_name())\n",
    "# >>>['act1', 'layer1', 'layer2', 'layer3', 'layer4']\n",
    "\n",
    "model = timm.create_model(\"mobilenetv3_large_100\", features_only=True)\n",
    "print(model.feature_info.module_name())\n",
    "# >>>['blocks.0.0', 'blocks.1.1', 'blocks.2.2', 'blocks.4.1', 'blocks.6.0']"
   ]
  }
 ],
 "metadata": {
  "kernelspec": {
   "display_name": "anomaly",
   "language": "python",
   "name": "python3"
  },
  "language_info": {
   "codemirror_mode": {
    "name": "ipython",
    "version": 3
   },
   "file_extension": ".py",
   "mimetype": "text/x-python",
   "name": "python",
   "nbconvert_exporter": "python",
   "pygments_lexer": "ipython3",
   "version": "3.10.14"
  }
 },
 "nbformat": 4,
 "nbformat_minor": 2
}
