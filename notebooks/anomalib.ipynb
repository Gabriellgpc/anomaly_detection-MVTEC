{
 "cells": [
  {
   "cell_type": "code",
   "execution_count": null,
   "metadata": {},
   "outputs": [],
   "source": [
    "import os\n",
    "import sys\n",
    "import cv2\n",
    "\n",
    "sys.path.append(\"/home/lcondados/workspace/competition-INTEL_VAND2/anomaly_detection-MVTEC/utils\")"
   ]
  },
  {
   "cell_type": "code",
   "execution_count": null,
   "metadata": {},
   "outputs": [],
   "source": [
    "# Import the required modules\n",
    "from anomalib.data import MVTec\n",
    "from anomalib.models import Patchcore\n",
    "from anomalib.engine import Engine\n",
    "\n",
    "import matplotlib.pyplot as plt\n",
    "\n",
    "from torchvision import transforms, utils\n",
    "\n",
    "import visualization as my_viz\n",
    "\n",
    "import numpy as np\n",
    "def convert_image_pt_2_np(image_pt):\n",
    "    image_np = image_pt.cpu().numpy()\n",
    "    if len(image_np.shape) == 2:\n",
    "        pass\n",
    "    else:\n",
    "        image_np = np.transpose(image_np, [1, 2, 0])\n",
    "    return image_np"
   ]
  },
  {
   "cell_type": "code",
   "execution_count": null,
   "metadata": {},
   "outputs": [],
   "source": [
    "datamodule = MVTec(root=\"../dataset\")\n",
    "datamodule.setup()"
   ]
  },
  {
   "cell_type": "code",
   "execution_count": null,
   "metadata": {},
   "outputs": [],
   "source": [
    "for data in datamodule.train_data:\n",
    "    print(data.keys())\n",
    "    image_path = data[\"image_path\"]\n",
    "    label      = data[\"label\"]\n",
    "    image      = data[\"image\"]\n",
    "    mask       = data[\"mask\"]\n",
    "\n",
    "    # print(image)\n",
    "    # print(mask)\n",
    "\n",
    "    viz_image = my_viz.plot_tensor_image_torch(image)\n",
    "    viz_mask  = my_viz.plot_tensor_image_torch(mask)\n",
    "\n",
    "    plt.subplot(1,2,1)\n",
    "    plt.imshow(viz_image)\n",
    "    plt.axis(\"off\")\n",
    "\n",
    "    plt.subplot(1,2,2)\n",
    "    plt.imshow(viz_mask)\n",
    "    plt.axis(\"off\")\n",
    "    plt.show()\n",
    "\n",
    "    plt.show()\n",
    "\n",
    "    # plt.imshow(image)\n",
    "    # plt.axis(\"off\")\n",
    "    # plt.show()\n",
    "    break"
   ]
  },
  {
   "cell_type": "code",
   "execution_count": null,
   "metadata": {},
   "outputs": [],
   "source": [
    "# Initialize the datamodule, model and engine\n",
    "model = Patchcore()"
   ]
  },
  {
   "cell_type": "code",
   "execution_count": null,
   "metadata": {},
   "outputs": [],
   "source": [
    "engine = Engine()"
   ]
  },
  {
   "cell_type": "code",
   "execution_count": null,
   "metadata": {},
   "outputs": [],
   "source": [
    "# Train the model\n",
    "engine.fit(datamodule=datamodule, model=model)"
   ]
  },
  {
   "cell_type": "code",
   "execution_count": null,
   "metadata": {},
   "outputs": [],
   "source": [
    "# Assuming the datamodule, model and engine is initialized from the previous step,\n",
    "# a prediction via a checkpoint file can be performed as follows:\n",
    "predictions = engine.predict(\n",
    "    datamodule=datamodule,\n",
    "    model=model,\n",
    "    ckpt_path=\"/home/lcondados/workspace/competition-INTEL_VAND2/anomaly_detection-MVTEC/notebooks/results/Patchcore/MVTec/bottle/latest/weights/lightning/model.ckpt\",\n",
    ")"
   ]
  },
  {
   "cell_type": "code",
   "execution_count": null,
   "metadata": {},
   "outputs": [],
   "source": [
    "predictions[0].keys()\n",
    "pred_masks = predictions[0][\"pred_masks\"]"
   ]
  },
  {
   "cell_type": "code",
   "execution_count": null,
   "metadata": {},
   "outputs": [],
   "source": [
    "image_np = imshow_pt(predictions[0][\"pred_masks\"][0])\n",
    "plt.imshow(image_np[0])\n",
    "plt.show()"
   ]
  },
  {
   "cell_type": "code",
   "execution_count": null,
   "metadata": {},
   "outputs": [],
   "source": [
    "cv2.imwrite(\"pred.png\", (image_np * 255).astype(\"uint8\"))"
   ]
  }
 ],
 "metadata": {
  "kernelspec": {
   "display_name": "anomaly",
   "language": "python",
   "name": "python3"
  },
  "language_info": {
   "codemirror_mode": {
    "name": "ipython",
    "version": 3
   },
   "file_extension": ".py",
   "mimetype": "text/x-python",
   "name": "python",
   "nbconvert_exporter": "python",
   "pygments_lexer": "ipython3",
   "version": "3.10.14"
  }
 },
 "nbformat": 4,
 "nbformat_minor": 2
}
